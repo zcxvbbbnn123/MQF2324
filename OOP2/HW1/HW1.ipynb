{
 "cells": [
  {
   "cell_type": "code",
   "execution_count": 1,
   "metadata": {},
   "outputs": [
    {
     "name": "stdout",
     "output_type": "stream",
     "text": [
      "The input sentence is : A man and a pen.\n",
      "The input sentence is good.\n"
     ]
    }
   ],
   "source": [
    "#Q1\n",
    "import string\n",
    "\n",
    "sentence = input('Please enter a proper sentence:')\n",
    "print(f'The input sentence is : {sentence}')\n",
    "err = False\n",
    "\n",
    "errMsg1 = 'error: The input sentence is not capitalized.'\n",
    "errMsg2 = 'error: The input sentence does not end with a punctuation'\n",
    "\n",
    "if sentence != sentence.capitalize():\n",
    "    sentence = sentence.capitalize()\n",
    "    print(errMsg1)\n",
    "    err = True\n",
    "\n",
    "if sentence[-1] not in string.punctuation:\n",
    "    sentence = sentence + '.'\n",
    "    print(errMsg2)\n",
    "    err = True\n",
    "\n",
    "if err:\n",
    "    print(f'The fixed sentence is: {sentence}')\n",
    "else:\n",
    "    print('The input sentence is good.')"
   ]
  },
  {
   "cell_type": "code",
   "execution_count": 2,
   "metadata": {},
   "outputs": [
    {
     "name": "stdout",
     "output_type": "stream",
     "text": [
      "The input string has 3 vowels.\n",
      "The input string has 8 consonants.\n"
     ]
    }
   ],
   "source": [
    "#Q2\n",
    "# string.ascii_letters #get all letters\n",
    "vowels = 'aeiouAEIOU'\n",
    "consonants = 'bcdfghjklmnpqrstvwxyzBCDFGHJKLMNPQRSTVWXYZ'\n",
    "\n",
    "def q2(input_string):\n",
    "    counter_vowels = 0\n",
    "    counter_consonants = 0\n",
    "    for c in input_string:\n",
    "        if c in vowels:\n",
    "            counter_vowels += 1\n",
    "        if c in consonants:\n",
    "            counter_consonants += 1\n",
    "    print(f'The input string has {counter_vowels} vowels.')\n",
    "    print(f'The input string has {counter_consonants} consonants.')\n",
    "\n",
    "q2('Assignments!')"
   ]
  },
  {
   "cell_type": "code",
   "execution_count": 3,
   "metadata": {},
   "outputs": [
    {
     "name": "stdout",
     "output_type": "stream",
     "text": [
      "1987\n"
     ]
    }
   ],
   "source": [
    "#Q3\n",
    "import numpy as np\n",
    "\n",
    "def isPrime(n):\n",
    "    for i in range(2, int(np.sqrt(n)) + 1):\n",
    "        if n % i == 0:\n",
    "            return False\n",
    "    return True\n",
    "\n",
    "# 1 is not prime so the first is 2\n",
    "currNum = 3\n",
    "count = 1\n",
    "target = 300\n",
    "allPrimeNum = [2]\n",
    "while count < target:\n",
    "    if isPrime(currNum):\n",
    "        allPrimeNum.append(currNum)\n",
    "        count += 1\n",
    "    currNum += 2 #no need to test for even number\n",
    "\n",
    "print(allPrimeNum[target - 1])"
   ]
  },
  {
   "cell_type": "code",
   "execution_count": 4,
   "metadata": {},
   "outputs": [
    {
     "name": "stdout",
     "output_type": "stream",
     "text": [
      "BMI is 26.8573\n"
     ]
    }
   ],
   "source": [
    "#Q4\n",
    "weight = float(input(\"Enter weight in pounds: \"))\n",
    "height = float(input(\"Enter height in inches: \"))\n",
    "print(f'BMI is {weight * 0.45359237 / (0.0254 * height)**2:.4f}')"
   ]
  },
  {
   "cell_type": "code",
   "execution_count": 5,
   "metadata": {},
   "outputs": [
    {
     "name": "stdout",
     "output_type": "stream",
     "text": [
      "jihgfedcba\n",
      "adgj\n",
      "igeca\n"
     ]
    }
   ],
   "source": [
    "#Q5\n",
    "s = 'abcdefghij'\n",
    "print(s[::-1]) #a\n",
    "print(s[::3]) #b\n",
    "print(s[-2::-2]) #c"
   ]
  },
  {
   "cell_type": "code",
   "execution_count": 6,
   "metadata": {},
   "outputs": [
    {
     "name": "stdout",
     "output_type": "stream",
     "text": [
      "n + nn + nnn = 246\n"
     ]
    }
   ],
   "source": [
    "#Q6\n",
    "n = int(input(\"Please enter a single digit n: \"))\n",
    "print(f'n + nn + nnn = {3*n + 20*n + 100*n}')"
   ]
  },
  {
   "cell_type": "code",
   "execution_count": 7,
   "metadata": {},
   "outputs": [
    {
     "name": "stdout",
     "output_type": "stream",
     "text": [
      "True\n",
      "False\n"
     ]
    }
   ],
   "source": [
    "#Q7\n",
    "a_string = 'abcdera' #with vowel\n",
    "a_string2 = 'bbbbb' #no vowel\n",
    "\n",
    "#set comparison, can also use any()\n",
    "print(bool(set(a_string) & set('aeiouAEIOU')))\n",
    "print(bool(set(a_string2) & set('aeiouAEIOU')))"
   ]
  },
  {
   "cell_type": "code",
   "execution_count": 8,
   "metadata": {},
   "outputs": [
    {
     "name": "stdout",
     "output_type": "stream",
     "text": [
      "The interest is 2.91667\n"
     ]
    }
   ],
   "source": [
    "#Q8\n",
    "balance, interest = [float(i) for i in input('Enter blance and interest rate (e.g., 3 for 3%): ').split(',')]\n",
    "print(f'The interest is {balance*interest/1200:.5f}')"
   ]
  },
  {
   "cell_type": "code",
   "execution_count": 9,
   "metadata": {},
   "outputs": [
    {
     "name": "stdout",
     "output_type": "stream",
     "text": [
      "Your password is valid\n"
     ]
    }
   ],
   "source": [
    "#Q9\n",
    "import string\n",
    "password = input('Please enter your password: ')\n",
    "valid = False\n",
    "\n",
    "condition1 = set(password) & set(string.digits)\n",
    "condition2 = set(password) & set(string.ascii_uppercase)\n",
    "condition3 = set(password) & set(string.ascii_lowercase)\n",
    "condition4 = (6 <= len(password) <= 20)\n",
    "\n",
    "if condition1 and condition2 and condition3 and condition4: \n",
    "    valid = True\n",
    "\n",
    "print('Your password is valid') if valid else ('Your password is invalid')"
   ]
  },
  {
   "cell_type": "code",
   "execution_count": 10,
   "metadata": {},
   "outputs": [
    {
     "name": "stdout",
     "output_type": "stream",
     "text": [
      "The following character(s) is(are) missing: zxvlh\n"
     ]
    },
    {
     "data": {
      "text/plain": [
       "False"
      ]
     },
     "execution_count": 10,
     "metadata": {},
     "output_type": "execute_result"
    }
   ],
   "source": [
    "#Q10\n",
    "import string\n",
    "def q10(sentence_str):\n",
    "    sentenceSet = set(sentence_str.lower()) \n",
    "    lowerSet = set(string.ascii_lowercase)\n",
    "\n",
    "    if sentenceSet == lowerSet: \n",
    "        return True\n",
    "        \n",
    "    missing = ''.join(lowerSet.difference(sentenceSet))\n",
    "    print(f'The following character(s) is(are) missing: {missing}')\n",
    "    return False\n",
    "\n",
    "test_str = 'abcBJAYGeIUYWTRQOPSKFMABnjcndsmod93730'\n",
    "q10(test_str)"
   ]
  },
  {
   "cell_type": "code",
   "execution_count": 11,
   "metadata": {},
   "outputs": [
    {
     "name": "stdout",
     "output_type": "stream",
     "text": [
      "6\n",
      "28\n",
      "496\n"
     ]
    }
   ],
   "source": [
    "#Q11\n",
    "import numpy as np\n",
    "\n",
    "def isPerfect(num):\n",
    "    if num <= 1: return False\n",
    "\n",
    "    sum = 1 #dont need to check for 1\n",
    "    for i in range(2, int(np.sqrt(num)) + 1):\n",
    "        if num % i == 0:\n",
    "            sum += (i + num / i)\n",
    "    \n",
    "    return num == sum\n",
    "\n",
    "for i in range(1, 5001):\n",
    "    if isPerfect(i):\n",
    "        print(i)"
   ]
  }
 ],
 "metadata": {
  "kernelspec": {
   "display_name": "Python 3.10.4 64-bit",
   "language": "python",
   "name": "python3"
  },
  "language_info": {
   "codemirror_mode": {
    "name": "ipython",
    "version": 3
   },
   "file_extension": ".py",
   "mimetype": "text/x-python",
   "name": "python",
   "nbconvert_exporter": "python",
   "pygments_lexer": "ipython3",
   "version": "3.10.4"
  },
  "orig_nbformat": 4,
  "vscode": {
   "interpreter": {
    "hash": "aee8b7b246df8f9039afb4144a1f6fd8d2ca17a180786b69acc140d282b71a49"
   }
  }
 },
 "nbformat": 4,
 "nbformat_minor": 2
}
