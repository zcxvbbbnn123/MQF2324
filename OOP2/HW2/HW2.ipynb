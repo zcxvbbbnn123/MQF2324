{
 "cells": [
  {
   "cell_type": "code",
   "execution_count": 8,
   "metadata": {},
   "outputs": [
    {
     "data": {
      "text/plain": [
       "{'a': 1, 'b': 2, 'c': 3, 'd': 6, 'e': 5, 'f': 4}"
      ]
     },
     "execution_count": 8,
     "metadata": {},
     "output_type": "execute_result"
    }
   ],
   "source": [
    "# q1\n",
    "def mergeDict(dict1, dict2):\n",
    "\n",
    "    for key, val in dict2.items():\n",
    "        dict1[key] = val\n",
    "\n",
    "dict1 = {'a':1, 'b':2, 'c':3}\n",
    "dict2 = {'d':6, 'e':5, 'f':4}\n",
    "\n",
    "mergeDict(dict1, dict2)\n",
    "dict1"
   ]
  },
  {
   "cell_type": "code",
   "execution_count": 11,
   "metadata": {},
   "outputs": [
    {
     "name": "stdout",
     "output_type": "stream",
     "text": [
      "[1, 2, 3, 4, 5, 6, 8, 11, 55, 555]\n",
      "['a', 'h', 's']\n"
     ]
    }
   ],
   "source": [
    "#q2\n",
    "def removeDuplicate(ls):\n",
    "    return sorted(list(set(ls)))\n",
    "\n",
    "test1 = [1,11,1,1,1,1,2,3,4,6,555,5,55,5,8]\n",
    "test2 = ['a','a','s','h','h']\n",
    "print(removeDuplicate(test1))\n",
    "print(removeDuplicate(test2))"
   ]
  },
  {
   "cell_type": "code",
   "execution_count": 1,
   "metadata": {},
   "outputs": [
    {
     "name": "stdout",
     "output_type": "stream",
     "text": [
      "cat : (4, 4)\n",
      "dog : (2, 3)\n",
      "\n",
      "cat : (4, 4)\n",
      "dog : (2, 9)\n",
      "elephant : (1, 9)\n",
      "fish : (5, 15)\n"
     ]
    }
   ],
   "source": [
    "#q3\n",
    "def getWordRangeDict(inputString):\n",
    "    strInList = inputString.split()\n",
    "    res = {}\n",
    "    count = 0\n",
    "    while count < len(strInList):\n",
    "        word = strInList[count]\n",
    "        num = int(strInList[count + 1])\n",
    "\n",
    "        if word not in res:\n",
    "            res[word] = (num, num)\n",
    "        else:\n",
    "            new = sorted([*res[word], num])\n",
    "            res[word] = tuple(new[::2])\n",
    "\n",
    "        count += 2\n",
    "    return res\n",
    "\n",
    "\n",
    "def printDictInKeyOrder(inputDict):\n",
    "    pairInList = sorted([(key, val) for key, val in inputDict.items()])\n",
    "    \n",
    "    for key, val in pairInList:\n",
    "        print(f'{key} : {val}')\n",
    "\n",
    "aDict = getWordRangeDict(\"cat 4 dog 3 dog 2\")\n",
    "printDictInKeyOrder(aDict)\n",
    "print()\n",
    "\n",
    "sentence = \"\"\"cat 4 dog 3 dog 2 elephant 7    fish 5 elephant 6 fish 5 \n",
    "     dog 6  elephant 9 fish 15 dog 4  dog  9   elephant 1\"\"\"\n",
    "\n",
    "aDict = getWordRangeDict(sentence)\n",
    "printDictInKeyOrder(aDict)\n"
   ]
  },
  {
   "cell_type": "code",
   "execution_count": 1,
   "metadata": {},
   "outputs": [
    {
     "name": "stdout",
     "output_type": "stream",
     "text": [
      "True\n",
      "False\n",
      "True\n",
      "False\n",
      "True\n",
      "False\n"
     ]
    }
   ],
   "source": [
    "#q4\n",
    "def is_ordered(sequence):\n",
    "    return list(sequence) == sorted(sequence)\n",
    "\n",
    "print(is_ordered([1,2,3]))\n",
    "print(is_ordered([5,2,-10]))\n",
    "print(is_ordered((1,2,3)))\n",
    "print(is_ordered(('J', 'a', 'A')))\n",
    "print(is_ordered('abcde'))\n",
    "print(is_ordered('pkajwu'))"
   ]
  },
  {
   "cell_type": "code",
   "execution_count": 2,
   "metadata": {},
   "outputs": [
    {
     "name": "stdout",
     "output_type": "stream",
     "text": [
      "True\n",
      "False\n"
     ]
    }
   ],
   "source": [
    "#q5\n",
    "def is_right_angle_triangle(a, b, c):\n",
    "    i1, i2, i3 = sorted([a, b, c])\n",
    "    return i1*i1 + i2*i2 == i3*i3\n",
    "\n",
    "print(is_right_angle_triangle(3,5,4))\n",
    "print(is_right_angle_triangle(10,4,8))"
   ]
  },
  {
   "cell_type": "code",
   "execution_count": 7,
   "metadata": {},
   "outputs": [
    {
     "name": "stdout",
     "output_type": "stream",
     "text": [
      "[['e'], ['d', 'e'], ['c', 'd', 'e'], ['b', 'c', 'd', 'e'], ['a', 'b', 'c', 'd', 'e']]\n"
     ]
    }
   ],
   "source": [
    "#q6\n",
    "def list_of_list(inputList):\n",
    "    n = len(inputList)\n",
    "    res = []\n",
    "    for i in range(n - 1, -1, -1):\n",
    "        res.append(inputList[i:n])\n",
    "    return res\n",
    "\n",
    "print(list_of_list(['a', 'b', 'c', 'd', 'e']))"
   ]
  },
  {
   "cell_type": "code",
   "execution_count": 11,
   "metadata": {},
   "outputs": [
    {
     "name": "stdout",
     "output_type": "stream",
     "text": [
      "43916\n"
     ]
    }
   ],
   "source": [
    "#q7\n",
    "def hex_to_dec(hexNum):\n",
    "    hexDict = {'A':10, 'B':11, 'C':12, 'D':13, 'E':14, 'F':15,\n",
    "               '1':1,'2':2,'3':3,'4':4,'5':5,'6':6,'7':7,'8':8,'9':9}\n",
    "    res = 0\n",
    "    n = len(hexNum) - 1\n",
    "    for char in hexNum:\n",
    "        res += 16 ** n * hexDict[char]\n",
    "        n -= 1\n",
    "\n",
    "    return res\n",
    "print(hex_to_dec('AB8C'))"
   ]
  },
  {
   "cell_type": "code",
   "execution_count": 19,
   "metadata": {},
   "outputs": [
    {
     "name": "stdout",
     "output_type": "stream",
     "text": [
      "Series entered is: [1.0, 2.0, 3.0, 4.0, 4.0, 4.0, 3.0, 2.0]\n",
      "Series entered contain 4 consec number? : False\n"
     ]
    }
   ],
   "source": [
    "#q8\n",
    "def isConsecutiveFour(values):\n",
    "    currValue = values[0]\n",
    "    n = len(values)\n",
    "    count = 1\n",
    "\n",
    "    for i in range(1, n):\n",
    "        if values[i] == currValue:\n",
    "            count += 1\n",
    "            if count == 4:\n",
    "                return True\n",
    "        else:\n",
    "            count = 1\n",
    "            currValue = values[i]\n",
    "\n",
    "    return False\n",
    "\n",
    "#maybe can use sys.stdin\n",
    "test = []\n",
    "while(True):\n",
    "    value = input('Enter a number(q to quit):')\n",
    "    if value == 'q': \n",
    "        break\n",
    "    test.append(float(value))\n",
    "\n",
    "print(f'Series entered is: {test}')\n",
    "print(f'Series entered contain 4 consec number? : {isConsecutiveFour(test)}')"
   ]
  },
  {
   "cell_type": "code",
   "execution_count": 62,
   "metadata": {},
   "outputs": [
    {
     "name": "stdout",
     "output_type": "stream",
     "text": [
      "Original text: I am a man\n",
      "Encrypted as: m eq e qer\n",
      "\n",
      "Encrypted text: vq dg qt pqv vq dg: vjcv ku vjg swguvkqp.\n",
      "Translated: rm zc mp lmr rm zc: rfyr gq rfc oscqrgml.\n"
     ]
    }
   ],
   "source": [
    "#q9\n",
    "import string\n",
    "\n",
    "def cipher(message, shift, sign = 'encrypt'):\n",
    "    if sign == 'decrypt': shift *= -1\n",
    "\n",
    "    letters = string.ascii_lowercase\n",
    "    lettersDict = dict(zip(letters, range(26)))\n",
    "    # consider only lower cases and use ord or dict\n",
    "    message = message.lower()\n",
    "\n",
    "    res = ''\n",
    "    for char in message:\n",
    "        if char in lettersDict:\n",
    "            shifted = (lettersDict[char] + shift) % 26\n",
    "            res += letters[shifted]\n",
    "        else:\n",
    "            res += char\n",
    "\n",
    "    return res\n",
    "\n",
    "test = 'I am a man'\n",
    "test2 = 'vq dg qt pqv vq dg: vjcv ku vjg swguvkqp.' #what is this\n",
    "print(f'Original text: {test}\\nEncrypted as: {cipher(test, 4, \"encrypt\")}')\n",
    "print(f'\\nEncrypted text: {test2}\\nTranslated: {cipher(test2, 4, \"decrypt\")}')\n",
    "\n",
    "# for i in range(1,26):\n",
    "#     print(cipher(test2, i, \"decrypt\"))"
   ]
  },
  {
   "cell_type": "code",
   "execution_count": 32,
   "metadata": {},
   "outputs": [
    {
     "name": "stdout",
     "output_type": "stream",
     "text": [
      "Game start\n",
      "| - | - | - | \n",
      "| - | - | - | \n",
      "| - | - | - | \n",
      "Turn 1:\n",
      "| - | - | - | \n",
      "| - | - | - | \n",
      "| X | - | - | \n",
      "Turn 2:\n",
      "| - | O | - | \n",
      "| - | - | - | \n",
      "| X | - | - | \n",
      "Turn 3:\n",
      "| - | O | - | \n",
      "| X | - | - | \n",
      "| X | - | - | \n",
      "Turn 4:\n",
      "| - | O | - | \n",
      "| X | O | - | \n",
      "| X | - | - | \n",
      "Turn 5:\n",
      "| - | O | - | \n",
      "| X | O | X | \n",
      "| X | - | - | \n",
      "Turn 6:\n",
      "| - | O | - | \n",
      "| X | O | X | \n",
      "| X | - | O | \n",
      "Turn 7:\n",
      "| - | O | - | \n",
      "| X | O | X | \n",
      "| X | X | O | \n",
      "Turn 8:\n",
      "| O | O | - | \n",
      "| X | O | X | \n",
      "| X | X | O | \n"
     ]
    }
   ],
   "source": [
    "#q10\n",
    "import random\n",
    "\n",
    "class TicTacToe(object):\n",
    "    def __init__(self):\n",
    "        self.board = [['-' for j in range(3)] for i in range(3)]\n",
    "        self.player1 = 'X'\n",
    "        self.player2 = 'O'\n",
    "\n",
    "    def move(self, row, col, player):\n",
    "        self.board[row][col] = player\n",
    "\n",
    "    def random_move(self, player):\n",
    "        possible_move = []\n",
    "        n = len(self.board)\n",
    "        for i in range(n):\n",
    "            for j in range(n):\n",
    "                if self.board[i][j] == '-':\n",
    "                    possible_move.append([i,j])\n",
    "\n",
    "        m = random.randint(0, len(possible_move) - 1)\n",
    "        self.move(possible_move[m][0], possible_move[m][1], player)\n",
    "            \n",
    "\n",
    "    def is_board_filled(self):\n",
    "        for row in self.board:\n",
    "            for i in row:\n",
    "                if i == '-': return False\n",
    "        return True\n",
    "\n",
    "    def win(self, player):        \n",
    "        #row\n",
    "        for row in self.board:\n",
    "            if row[0] == row[1] == row[2] == player:\n",
    "                return True\n",
    "\n",
    "        #col\n",
    "        for i in range(3):\n",
    "            if self.board[0][i] == self.board[1][i] == self.board[2][i] == player:\n",
    "                return True\n",
    "\n",
    "        #diag\n",
    "        if self.board[1][1] == player:\n",
    "            if (self.board[0][0] == self.board[2][2] == player) or (self.board[0][2] == self.board[2][0] == player):\n",
    "                return True\n",
    "        return False\n",
    "\n",
    "    def end(self, player):\n",
    "        #check board filled\n",
    "        return self.win(player) or self.is_board_filled()\n",
    "\n",
    "    def print_board(self):\n",
    "        for row in self.board:\n",
    "            print('| ', end ='')\n",
    "            for i in row:\n",
    "                print(i, end=' | ')\n",
    "            print()\n",
    "    \n",
    "    def game_sim(self):\n",
    "        player = [self.player1, self.player2]\n",
    "        now = 0\n",
    "        turn = 1\n",
    "\n",
    "        print('Game start')\n",
    "        self.print_board()\n",
    "\n",
    "        while not self.end(player[not now]):\n",
    "            self.random_move(player[now])\n",
    "            print(f'Turn{turn:>2}:')\n",
    "            self.print_board()\n",
    "            turn += 1\n",
    "            now = not now #flipping ard 0 and 1\n",
    "            \n",
    "    \n",
    "game = TicTacToe()\n",
    "game.game_sim()"
   ]
  },
  {
   "cell_type": "code",
   "execution_count": 1,
   "metadata": {},
   "outputs": [
    {
     "name": "stdout",
     "output_type": "stream",
     "text": [
      "1 : [[1]]\n",
      "2 : [[1, 1], [2]]\n",
      "3 : [[1, 1, 1], [2, 1], [1, 2]]\n",
      "4 : [[1, 1, 1, 1], [2, 1, 1], [1, 2, 1], [1, 1, 2], [2, 2]]\n",
      "5 : [[1, 1, 1, 1, 1], [2, 1, 1, 1], [1, 2, 1, 1], [1, 1, 2, 1], [2, 2, 1], [1, 1, 1, 2], [2, 1, 2], [1, 2, 2]]\n",
      "6 : [[1, 1, 1, 1, 1, 1], [2, 1, 1, 1, 1], [1, 2, 1, 1, 1], [1, 1, 2, 1, 1], [2, 2, 1, 1], [1, 1, 1, 2, 1], [2, 1, 2, 1], [1, 2, 2, 1], [1, 1, 1, 1, 2], [2, 1, 1, 2], [1, 2, 1, 2], [1, 1, 2, 2], [2, 2, 2]]\n",
      "7 : [[1, 1, 1, 1, 1, 1, 1], [2, 1, 1, 1, 1, 1], [1, 2, 1, 1, 1, 1], [1, 1, 2, 1, 1, 1], [2, 2, 1, 1, 1], [1, 1, 1, 2, 1, 1], [2, 1, 2, 1, 1], [1, 2, 2, 1, 1], [1, 1, 1, 1, 2, 1], [2, 1, 1, 2, 1], [1, 2, 1, 2, 1], [1, 1, 2, 2, 1], [2, 2, 2, 1], [1, 1, 1, 1, 1, 2], [2, 1, 1, 1, 2], [1, 2, 1, 1, 2], [1, 1, 2, 1, 2], [2, 2, 1, 2], [1, 1, 1, 2, 2], [2, 1, 2, 2], [1, 2, 2, 2]]\n",
      "8 : [[1, 1, 1, 1, 1, 1, 1, 1], [2, 1, 1, 1, 1, 1, 1], [1, 2, 1, 1, 1, 1, 1], [1, 1, 2, 1, 1, 1, 1], [2, 2, 1, 1, 1, 1], [1, 1, 1, 2, 1, 1, 1], [2, 1, 2, 1, 1, 1], [1, 2, 2, 1, 1, 1], [1, 1, 1, 1, 2, 1, 1], [2, 1, 1, 2, 1, 1], [1, 2, 1, 2, 1, 1], [1, 1, 2, 2, 1, 1], [2, 2, 2, 1, 1], [1, 1, 1, 1, 1, 2, 1], [2, 1, 1, 1, 2, 1], [1, 2, 1, 1, 2, 1], [1, 1, 2, 1, 2, 1], [2, 2, 1, 2, 1], [1, 1, 1, 2, 2, 1], [2, 1, 2, 2, 1], [1, 2, 2, 2, 1], [1, 1, 1, 1, 1, 1, 2], [2, 1, 1, 1, 1, 2], [1, 2, 1, 1, 1, 2], [1, 1, 2, 1, 1, 2], [2, 2, 1, 1, 2], [1, 1, 1, 2, 1, 2], [2, 1, 2, 1, 2], [1, 2, 2, 1, 2], [1, 1, 1, 1, 2, 2], [2, 1, 1, 2, 2], [1, 2, 1, 2, 2], [1, 1, 2, 2, 2], [2, 2, 2, 2]]\n",
      "9 : [[1, 1, 1, 1, 1, 1, 1, 1, 1], [2, 1, 1, 1, 1, 1, 1, 1], [1, 2, 1, 1, 1, 1, 1, 1], [1, 1, 2, 1, 1, 1, 1, 1], [2, 2, 1, 1, 1, 1, 1], [1, 1, 1, 2, 1, 1, 1, 1], [2, 1, 2, 1, 1, 1, 1], [1, 2, 2, 1, 1, 1, 1], [1, 1, 1, 1, 2, 1, 1, 1], [2, 1, 1, 2, 1, 1, 1], [1, 2, 1, 2, 1, 1, 1], [1, 1, 2, 2, 1, 1, 1], [2, 2, 2, 1, 1, 1], [1, 1, 1, 1, 1, 2, 1, 1], [2, 1, 1, 1, 2, 1, 1], [1, 2, 1, 1, 2, 1, 1], [1, 1, 2, 1, 2, 1, 1], [2, 2, 1, 2, 1, 1], [1, 1, 1, 2, 2, 1, 1], [2, 1, 2, 2, 1, 1], [1, 2, 2, 2, 1, 1], [1, 1, 1, 1, 1, 1, 2, 1], [2, 1, 1, 1, 1, 2, 1], [1, 2, 1, 1, 1, 2, 1], [1, 1, 2, 1, 1, 2, 1], [2, 2, 1, 1, 2, 1], [1, 1, 1, 2, 1, 2, 1], [2, 1, 2, 1, 2, 1], [1, 2, 2, 1, 2, 1], [1, 1, 1, 1, 2, 2, 1], [2, 1, 1, 2, 2, 1], [1, 2, 1, 2, 2, 1], [1, 1, 2, 2, 2, 1], [2, 2, 2, 2, 1], [1, 1, 1, 1, 1, 1, 1, 2], [2, 1, 1, 1, 1, 1, 2], [1, 2, 1, 1, 1, 1, 2], [1, 1, 2, 1, 1, 1, 2], [2, 2, 1, 1, 1, 2], [1, 1, 1, 2, 1, 1, 2], [2, 1, 2, 1, 1, 2], [1, 2, 2, 1, 1, 2], [1, 1, 1, 1, 2, 1, 2], [2, 1, 1, 2, 1, 2], [1, 2, 1, 2, 1, 2], [1, 1, 2, 2, 1, 2], [2, 2, 2, 1, 2], [1, 1, 1, 1, 1, 2, 2], [2, 1, 1, 1, 2, 2], [1, 2, 1, 1, 2, 2], [1, 1, 2, 1, 2, 2], [2, 2, 1, 2, 2], [1, 1, 1, 2, 2, 2], [2, 1, 2, 2, 2], [1, 2, 2, 2, 2]]\n"
     ]
    }
   ],
   "source": [
    "#q11\n",
    "#dict for memorization\n",
    "memoDict = {}\n",
    "\n",
    "def all_rabbit_paths(n):\n",
    "    #it should be similar to Fibonacci\n",
    "    #base case\n",
    "    if n in memoDict: return memoDict[n]\n",
    "    if n < 0: return None\n",
    "    if n == 0: return [[]]\n",
    "\n",
    "    res = []\n",
    "    for i in [1,2]:\n",
    "        recur = all_rabbit_paths(n - i)\n",
    "\n",
    "        if recur:\n",
    "            temp = [[j for j in i] for i in recur] #need deep copy to avoid change in memoDict\n",
    "            for ls in temp:\n",
    "                ls.append(i)\n",
    "            res += temp\n",
    "    memoDict[n] = res\n",
    "    return memoDict[n]\n",
    "\n",
    "for i in range(1, 10):\n",
    "    print(f'{i} : {all_rabbit_paths(i)}')\n",
    "    "
   ]
  },
  {
   "cell_type": "code",
   "execution_count": 16,
   "metadata": {},
   "outputs": [
    {
     "data": {
      "text/plain": [
       "[[1, 2], [9, 9], [3, 3], [1, 9]]"
      ]
     },
     "execution_count": 16,
     "metadata": {},
     "output_type": "execute_result"
    }
   ],
   "source": [
    "#test\n",
    "a = [[1,2],[9,9]]\n",
    "a += [[3,3], [1,9]]\n",
    "a"
   ]
  }
 ],
 "metadata": {
  "kernelspec": {
   "display_name": "Python 3.10.4 64-bit",
   "language": "python",
   "name": "python3"
  },
  "language_info": {
   "codemirror_mode": {
    "name": "ipython",
    "version": 3
   },
   "file_extension": ".py",
   "mimetype": "text/x-python",
   "name": "python",
   "nbconvert_exporter": "python",
   "pygments_lexer": "ipython3",
   "version": "3.10.4"
  },
  "orig_nbformat": 4,
  "vscode": {
   "interpreter": {
    "hash": "aee8b7b246df8f9039afb4144a1f6fd8d2ca17a180786b69acc140d282b71a49"
   }
  }
 },
 "nbformat": 4,
 "nbformat_minor": 2
}
